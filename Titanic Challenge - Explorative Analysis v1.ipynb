{
 "cells": [
  {
   "cell_type": "markdown",
   "id": "eac64281",
   "metadata": {},
   "source": [
    "# Titanic Challenge"
   ]
  },
  {
   "cell_type": "markdown",
   "id": "15530cf3",
   "metadata": {},
   "source": [
    "The objective of this explorative analysis will be to try to find patterns that predict the survival of a passenger on the Titanic. To achieve this, we must begin by organizing the data."
   ]
  },
  {
   "cell_type": "code",
   "execution_count": 1,
   "id": "492a3660",
   "metadata": {},
   "outputs": [
    {
     "name": "stdout",
     "output_type": "stream",
     "text": [
      "\n",
      "Data shape:  (891, 12)\n",
      "\n",
      "Number of duplicated rows:  0\n",
      "\n",
      "Missing Values in each column:\n",
      "\n",
      "\t Age 177 19.87%\n",
      "\n",
      "\t Cabin 687 77.10%\n",
      "\n",
      "\t Embarked 2 0.22%\n",
      "\n",
      "Number of unique values in each column:\n",
      "\n",
      "\tColumn 0 :  891\n",
      "\tColumn 1 :  2\n",
      "\tColumn 2 :  3\n",
      "\tColumn 3 :  891\n",
      "\tColumn 4 :  2\n",
      "\tColumn 5 :  88\n",
      "\tColumn 6 :  7\n",
      "\tColumn 7 :  7\n",
      "\tColumn 8 :  681\n",
      "\tColumn 9 :  248\n",
      "\tColumn 10 :  147\n",
      "\tColumn 11 :  3\n"
     ]
    }
   ],
   "source": [
    "import numpy as np\n",
    "import pandas as pd\n",
    "import matplotlib.pyplot as plt\n",
    "import seaborn as sns\n",
    "import datetime\n",
    "from IPython.display import display\n",
    "\n",
    "%matplotlib inline\n",
    "\n",
    "# Load the datasets\n",
    "train = pd.read_csv('train.csv')\n",
    "test = pd.read_csv('test.csv')\n",
    "gender = pd.read_csv('gender_submission.csv')\n",
    "\n",
    "# Print the shape of the dataset (lines, columns)\n",
    "print('\\nData shape: ', train.shape)\n",
    "        \n",
    "# Count duplicated rows\n",
    "df = pd.DataFrame(train)\n",
    "bool_series = df.duplicated(keep ='first')\n",
    "print('\\nNumber of duplicated rows: ', sum(bool_series))\n",
    "\n",
    "# Count the missing values in each column\n",
    "print('\\nMissing Values in each column:')\n",
    "for col in train.columns:\n",
    "    missing_train = train[col].isnull().sum()\n",
    "    if missing_train > 0:\n",
    "        print('\\n\\t',col, missing_train, \"{0:.2%}\".format(missing_train / train.shape[0]))\n",
    "\n",
    "# Count the distinct values in each column\n",
    "print('\\nNumber of unique values in each column:\\n')\n",
    "index = 0\n",
    "for col in train.nunique():\n",
    "    print('\\tColumn', index, ': ', col)\n",
    "    index += 1"
   ]
  },
  {
   "cell_type": "code",
   "execution_count": 2,
   "id": "cba28c99",
   "metadata": {},
   "outputs": [
    {
     "data": {
      "text/plain": [
       "643"
      ]
     },
     "execution_count": 2,
     "metadata": {},
     "output_type": "execute_result"
    }
   ],
   "source": [
    "sum(train.iloc[:,9].duplicated())"
   ]
  },
  {
   "cell_type": "code",
   "execution_count": 3,
   "id": "f116a3c8",
   "metadata": {},
   "outputs": [
    {
     "data": {
      "text/html": [
       "<div>\n",
       "<style scoped>\n",
       "    .dataframe tbody tr th:only-of-type {\n",
       "        vertical-align: middle;\n",
       "    }\n",
       "\n",
       "    .dataframe tbody tr th {\n",
       "        vertical-align: top;\n",
       "    }\n",
       "\n",
       "    .dataframe thead th {\n",
       "        text-align: right;\n",
       "    }\n",
       "</style>\n",
       "<table border=\"1\" class=\"dataframe\">\n",
       "  <thead>\n",
       "    <tr style=\"text-align: right;\">\n",
       "      <th></th>\n",
       "      <th>PassengerId</th>\n",
       "      <th>Survived</th>\n",
       "      <th>Pclass</th>\n",
       "      <th>Name</th>\n",
       "      <th>Sex</th>\n",
       "      <th>Age</th>\n",
       "      <th>SibSp</th>\n",
       "      <th>Parch</th>\n",
       "      <th>Ticket</th>\n",
       "      <th>Fare</th>\n",
       "      <th>Cabin</th>\n",
       "      <th>Embarked</th>\n",
       "    </tr>\n",
       "  </thead>\n",
       "  <tbody>\n",
       "    <tr>\n",
       "      <th>0</th>\n",
       "      <td>1</td>\n",
       "      <td>0</td>\n",
       "      <td>3</td>\n",
       "      <td>Braund, Mr. Owen Harris</td>\n",
       "      <td>male</td>\n",
       "      <td>22.0</td>\n",
       "      <td>1</td>\n",
       "      <td>0</td>\n",
       "      <td>A/5 21171</td>\n",
       "      <td>7.2500</td>\n",
       "      <td>NaN</td>\n",
       "      <td>S</td>\n",
       "    </tr>\n",
       "    <tr>\n",
       "      <th>1</th>\n",
       "      <td>2</td>\n",
       "      <td>1</td>\n",
       "      <td>1</td>\n",
       "      <td>Cumings, Mrs. John Bradley (Florence Briggs Th...</td>\n",
       "      <td>female</td>\n",
       "      <td>38.0</td>\n",
       "      <td>1</td>\n",
       "      <td>0</td>\n",
       "      <td>PC 17599</td>\n",
       "      <td>71.2833</td>\n",
       "      <td>C85</td>\n",
       "      <td>C</td>\n",
       "    </tr>\n",
       "    <tr>\n",
       "      <th>2</th>\n",
       "      <td>3</td>\n",
       "      <td>1</td>\n",
       "      <td>3</td>\n",
       "      <td>Heikkinen, Miss. Laina</td>\n",
       "      <td>female</td>\n",
       "      <td>26.0</td>\n",
       "      <td>0</td>\n",
       "      <td>0</td>\n",
       "      <td>STON/O2. 3101282</td>\n",
       "      <td>7.9250</td>\n",
       "      <td>NaN</td>\n",
       "      <td>S</td>\n",
       "    </tr>\n",
       "    <tr>\n",
       "      <th>3</th>\n",
       "      <td>4</td>\n",
       "      <td>1</td>\n",
       "      <td>1</td>\n",
       "      <td>Futrelle, Mrs. Jacques Heath (Lily May Peel)</td>\n",
       "      <td>female</td>\n",
       "      <td>35.0</td>\n",
       "      <td>1</td>\n",
       "      <td>0</td>\n",
       "      <td>113803</td>\n",
       "      <td>53.1000</td>\n",
       "      <td>C123</td>\n",
       "      <td>S</td>\n",
       "    </tr>\n",
       "    <tr>\n",
       "      <th>4</th>\n",
       "      <td>5</td>\n",
       "      <td>0</td>\n",
       "      <td>3</td>\n",
       "      <td>Allen, Mr. William Henry</td>\n",
       "      <td>male</td>\n",
       "      <td>35.0</td>\n",
       "      <td>0</td>\n",
       "      <td>0</td>\n",
       "      <td>373450</td>\n",
       "      <td>8.0500</td>\n",
       "      <td>NaN</td>\n",
       "      <td>S</td>\n",
       "    </tr>\n",
       "  </tbody>\n",
       "</table>\n",
       "</div>"
      ],
      "text/plain": [
       "   PassengerId  Survived  Pclass  \\\n",
       "0            1         0       3   \n",
       "1            2         1       1   \n",
       "2            3         1       3   \n",
       "3            4         1       1   \n",
       "4            5         0       3   \n",
       "\n",
       "                                                Name     Sex   Age  SibSp  \\\n",
       "0                            Braund, Mr. Owen Harris    male  22.0      1   \n",
       "1  Cumings, Mrs. John Bradley (Florence Briggs Th...  female  38.0      1   \n",
       "2                             Heikkinen, Miss. Laina  female  26.0      0   \n",
       "3       Futrelle, Mrs. Jacques Heath (Lily May Peel)  female  35.0      1   \n",
       "4                           Allen, Mr. William Henry    male  35.0      0   \n",
       "\n",
       "   Parch            Ticket     Fare Cabin Embarked  \n",
       "0      0         A/5 21171   7.2500   NaN        S  \n",
       "1      0          PC 17599  71.2833   C85        C  \n",
       "2      0  STON/O2. 3101282   7.9250   NaN        S  \n",
       "3      0            113803  53.1000  C123        S  \n",
       "4      0            373450   8.0500   NaN        S  "
      ]
     },
     "execution_count": 3,
     "metadata": {},
     "output_type": "execute_result"
    }
   ],
   "source": [
    "train.head()"
   ]
  },
  {
   "cell_type": "markdown",
   "id": "1e57d3a9",
   "metadata": {},
   "source": [
    "The most elementary statistic we can do is determine the survival rate for a passenger, irrespective of their characteristics."
   ]
  },
  {
   "cell_type": "code",
   "execution_count": 4,
   "id": "ad86ba90",
   "metadata": {},
   "outputs": [
    {
     "name": "stdout",
     "output_type": "stream",
     "text": [
      "Survival counts:\n",
      " 0    549\n",
      "1    342\n",
      "Name: Survived, dtype: int64\n",
      "Survival percentage:\n",
      " 0    0.616162\n",
      "1    0.383838\n",
      "Name: Survived, dtype: float64\n"
     ]
    }
   ],
   "source": [
    "survivorq = train.loc[:, 'Survived'].value_counts()\n",
    "survivorq_perc = train.loc[:, 'Survived'].value_counts() / train.shape[0]\n",
    "print('Survival counts:\\n', survivorq)\n",
    "print('Survival percentage:\\n', survivorq_perc)\n"
   ]
  },
  {
   "cell_type": "markdown",
   "id": "0f3300d9",
   "metadata": {},
   "source": [
    "So, we have a basic 38.4% survival rate. Now, let us compare the survival rate of people grouped by different characteristics. Some ideas are:\n",
    "\n",
    "- <b>Ticket class (`Pclass`)</b>: What if the richer class is better favored?\n",
    "    \n",
    "- <b>`Sex`</b>: What if women are better favored?\n",
    "    \n",
    "- <b>`Age`</b>: What if the young and elderly are better favored?\n",
    "    \n",
    "- <b>If they have siblings/spouses on board (`SibSp`)</b>: What if a parent with a child is better favored?\n",
    "    \n",
    "- <b>If they have parents/children on board (`ParCh`)</b>: If children are favored, wouldn't it make sense for a parent to be saved as well?\n",
    "    \n",
    "- <b>Cost of the ticket (`Fare`)</b>: The price of a fare might be related to premium service or availability fo the ticket. Must investigate this further.\n",
    "\n",
    "\n"
   ]
  },
  {
   "cell_type": "markdown",
   "id": "d37dc5d2",
   "metadata": {},
   "source": [
    "Let us verify each one of these assertions."
   ]
  },
  {
   "cell_type": "markdown",
   "id": "e170ac4a",
   "metadata": {},
   "source": [
    "## Sex"
   ]
  },
  {
   "cell_type": "markdown",
   "id": "ef0331b6",
   "metadata": {},
   "source": [
    "From James Cameron's picture, we figure that 'women and children' are favored over the rest of the passengers. Let us verify this notion."
   ]
  },
  {
   "cell_type": "code",
   "execution_count": 5,
   "id": "1e53e9cd",
   "metadata": {},
   "outputs": [
    {
     "name": "stdout",
     "output_type": "stream",
     "text": [
      "Sex     Survived\n",
      "female  1           0.742038\n",
      "        0           0.257962\n",
      "dtype: float64\n",
      "Sex   Survived\n",
      "male  0           0.811092\n",
      "      1           0.188908\n",
      "dtype: float64\n"
     ]
    }
   ],
   "source": [
    "print(train.loc[train['Sex'] == 'female', ['Sex', 'Survived']].groupby('Sex').value_counts() / train.loc[train['Sex'] == 'female'].shape[0])\n",
    "print(train.loc[train['Sex'] == 'male', ['Sex', 'Survived']].groupby('Sex').value_counts() / train.loc[train['Sex'] == 'male'].shape[0])\n"
   ]
  },
  {
   "cell_type": "markdown",
   "id": "4cfbabb6",
   "metadata": {},
   "source": [
    "We can see that this is true. The survival rate of women is <b>74.2%</b> whereas the survival rate of men is <b>18.9%</b>. The headers of the tables respective to each group can be found below."
   ]
  },
  {
   "cell_type": "code",
   "execution_count": 6,
   "id": "0b8e8702",
   "metadata": {},
   "outputs": [
    {
     "data": {
      "text/html": [
       "<div>\n",
       "<style scoped>\n",
       "    .dataframe tbody tr th:only-of-type {\n",
       "        vertical-align: middle;\n",
       "    }\n",
       "\n",
       "    .dataframe tbody tr th {\n",
       "        vertical-align: top;\n",
       "    }\n",
       "\n",
       "    .dataframe thead th {\n",
       "        text-align: right;\n",
       "    }\n",
       "</style>\n",
       "<table border=\"1\" class=\"dataframe\">\n",
       "  <thead>\n",
       "    <tr style=\"text-align: right;\">\n",
       "      <th></th>\n",
       "      <th>PassengerId</th>\n",
       "      <th>Survived</th>\n",
       "      <th>Pclass</th>\n",
       "      <th>Name</th>\n",
       "      <th>Sex</th>\n",
       "      <th>Age</th>\n",
       "      <th>SibSp</th>\n",
       "      <th>Parch</th>\n",
       "      <th>Ticket</th>\n",
       "      <th>Fare</th>\n",
       "      <th>Cabin</th>\n",
       "      <th>Embarked</th>\n",
       "    </tr>\n",
       "  </thead>\n",
       "  <tbody>\n",
       "    <tr>\n",
       "      <th>0</th>\n",
       "      <td>1</td>\n",
       "      <td>0</td>\n",
       "      <td>3</td>\n",
       "      <td>Braund, Mr. Owen Harris</td>\n",
       "      <td>male</td>\n",
       "      <td>22.0</td>\n",
       "      <td>1</td>\n",
       "      <td>0</td>\n",
       "      <td>A/5 21171</td>\n",
       "      <td>7.2500</td>\n",
       "      <td>NaN</td>\n",
       "      <td>S</td>\n",
       "    </tr>\n",
       "    <tr>\n",
       "      <th>4</th>\n",
       "      <td>5</td>\n",
       "      <td>0</td>\n",
       "      <td>3</td>\n",
       "      <td>Allen, Mr. William Henry</td>\n",
       "      <td>male</td>\n",
       "      <td>35.0</td>\n",
       "      <td>0</td>\n",
       "      <td>0</td>\n",
       "      <td>373450</td>\n",
       "      <td>8.0500</td>\n",
       "      <td>NaN</td>\n",
       "      <td>S</td>\n",
       "    </tr>\n",
       "    <tr>\n",
       "      <th>5</th>\n",
       "      <td>6</td>\n",
       "      <td>0</td>\n",
       "      <td>3</td>\n",
       "      <td>Moran, Mr. James</td>\n",
       "      <td>male</td>\n",
       "      <td>NaN</td>\n",
       "      <td>0</td>\n",
       "      <td>0</td>\n",
       "      <td>330877</td>\n",
       "      <td>8.4583</td>\n",
       "      <td>NaN</td>\n",
       "      <td>Q</td>\n",
       "    </tr>\n",
       "    <tr>\n",
       "      <th>6</th>\n",
       "      <td>7</td>\n",
       "      <td>0</td>\n",
       "      <td>1</td>\n",
       "      <td>McCarthy, Mr. Timothy J</td>\n",
       "      <td>male</td>\n",
       "      <td>54.0</td>\n",
       "      <td>0</td>\n",
       "      <td>0</td>\n",
       "      <td>17463</td>\n",
       "      <td>51.8625</td>\n",
       "      <td>E46</td>\n",
       "      <td>S</td>\n",
       "    </tr>\n",
       "    <tr>\n",
       "      <th>7</th>\n",
       "      <td>8</td>\n",
       "      <td>0</td>\n",
       "      <td>3</td>\n",
       "      <td>Palsson, Master. Gosta Leonard</td>\n",
       "      <td>male</td>\n",
       "      <td>2.0</td>\n",
       "      <td>3</td>\n",
       "      <td>1</td>\n",
       "      <td>349909</td>\n",
       "      <td>21.0750</td>\n",
       "      <td>NaN</td>\n",
       "      <td>S</td>\n",
       "    </tr>\n",
       "  </tbody>\n",
       "</table>\n",
       "</div>"
      ],
      "text/plain": [
       "   PassengerId  Survived  Pclass                            Name   Sex   Age  \\\n",
       "0            1         0       3         Braund, Mr. Owen Harris  male  22.0   \n",
       "4            5         0       3        Allen, Mr. William Henry  male  35.0   \n",
       "5            6         0       3                Moran, Mr. James  male   NaN   \n",
       "6            7         0       1         McCarthy, Mr. Timothy J  male  54.0   \n",
       "7            8         0       3  Palsson, Master. Gosta Leonard  male   2.0   \n",
       "\n",
       "   SibSp  Parch     Ticket     Fare Cabin Embarked  \n",
       "0      1      0  A/5 21171   7.2500   NaN        S  \n",
       "4      0      0     373450   8.0500   NaN        S  \n",
       "5      0      0     330877   8.4583   NaN        Q  \n",
       "6      0      0      17463  51.8625   E46        S  \n",
       "7      3      1     349909  21.0750   NaN        S  "
      ]
     },
     "execution_count": 6,
     "metadata": {},
     "output_type": "execute_result"
    }
   ],
   "source": [
    "male_pass = train.loc[train['Sex'] == 'male', :]\n",
    "female_pass = train.loc[train['Sex'] == 'female', :]\n",
    "\n",
    "male_pass.head()"
   ]
  },
  {
   "cell_type": "code",
   "execution_count": 7,
   "id": "a9b37e52",
   "metadata": {
    "scrolled": false
   },
   "outputs": [
    {
     "data": {
      "text/html": [
       "<div>\n",
       "<style scoped>\n",
       "    .dataframe tbody tr th:only-of-type {\n",
       "        vertical-align: middle;\n",
       "    }\n",
       "\n",
       "    .dataframe tbody tr th {\n",
       "        vertical-align: top;\n",
       "    }\n",
       "\n",
       "    .dataframe thead th {\n",
       "        text-align: right;\n",
       "    }\n",
       "</style>\n",
       "<table border=\"1\" class=\"dataframe\">\n",
       "  <thead>\n",
       "    <tr style=\"text-align: right;\">\n",
       "      <th></th>\n",
       "      <th>PassengerId</th>\n",
       "      <th>Survived</th>\n",
       "      <th>Pclass</th>\n",
       "      <th>Name</th>\n",
       "      <th>Sex</th>\n",
       "      <th>Age</th>\n",
       "      <th>SibSp</th>\n",
       "      <th>Parch</th>\n",
       "      <th>Ticket</th>\n",
       "      <th>Fare</th>\n",
       "      <th>Cabin</th>\n",
       "      <th>Embarked</th>\n",
       "    </tr>\n",
       "  </thead>\n",
       "  <tbody>\n",
       "    <tr>\n",
       "      <th>1</th>\n",
       "      <td>2</td>\n",
       "      <td>1</td>\n",
       "      <td>1</td>\n",
       "      <td>Cumings, Mrs. John Bradley (Florence Briggs Th...</td>\n",
       "      <td>female</td>\n",
       "      <td>38.0</td>\n",
       "      <td>1</td>\n",
       "      <td>0</td>\n",
       "      <td>PC 17599</td>\n",
       "      <td>71.2833</td>\n",
       "      <td>C85</td>\n",
       "      <td>C</td>\n",
       "    </tr>\n",
       "    <tr>\n",
       "      <th>2</th>\n",
       "      <td>3</td>\n",
       "      <td>1</td>\n",
       "      <td>3</td>\n",
       "      <td>Heikkinen, Miss. Laina</td>\n",
       "      <td>female</td>\n",
       "      <td>26.0</td>\n",
       "      <td>0</td>\n",
       "      <td>0</td>\n",
       "      <td>STON/O2. 3101282</td>\n",
       "      <td>7.9250</td>\n",
       "      <td>NaN</td>\n",
       "      <td>S</td>\n",
       "    </tr>\n",
       "    <tr>\n",
       "      <th>3</th>\n",
       "      <td>4</td>\n",
       "      <td>1</td>\n",
       "      <td>1</td>\n",
       "      <td>Futrelle, Mrs. Jacques Heath (Lily May Peel)</td>\n",
       "      <td>female</td>\n",
       "      <td>35.0</td>\n",
       "      <td>1</td>\n",
       "      <td>0</td>\n",
       "      <td>113803</td>\n",
       "      <td>53.1000</td>\n",
       "      <td>C123</td>\n",
       "      <td>S</td>\n",
       "    </tr>\n",
       "    <tr>\n",
       "      <th>8</th>\n",
       "      <td>9</td>\n",
       "      <td>1</td>\n",
       "      <td>3</td>\n",
       "      <td>Johnson, Mrs. Oscar W (Elisabeth Vilhelmina Berg)</td>\n",
       "      <td>female</td>\n",
       "      <td>27.0</td>\n",
       "      <td>0</td>\n",
       "      <td>2</td>\n",
       "      <td>347742</td>\n",
       "      <td>11.1333</td>\n",
       "      <td>NaN</td>\n",
       "      <td>S</td>\n",
       "    </tr>\n",
       "    <tr>\n",
       "      <th>9</th>\n",
       "      <td>10</td>\n",
       "      <td>1</td>\n",
       "      <td>2</td>\n",
       "      <td>Nasser, Mrs. Nicholas (Adele Achem)</td>\n",
       "      <td>female</td>\n",
       "      <td>14.0</td>\n",
       "      <td>1</td>\n",
       "      <td>0</td>\n",
       "      <td>237736</td>\n",
       "      <td>30.0708</td>\n",
       "      <td>NaN</td>\n",
       "      <td>C</td>\n",
       "    </tr>\n",
       "  </tbody>\n",
       "</table>\n",
       "</div>"
      ],
      "text/plain": [
       "   PassengerId  Survived  Pclass  \\\n",
       "1            2         1       1   \n",
       "2            3         1       3   \n",
       "3            4         1       1   \n",
       "8            9         1       3   \n",
       "9           10         1       2   \n",
       "\n",
       "                                                Name     Sex   Age  SibSp  \\\n",
       "1  Cumings, Mrs. John Bradley (Florence Briggs Th...  female  38.0      1   \n",
       "2                             Heikkinen, Miss. Laina  female  26.0      0   \n",
       "3       Futrelle, Mrs. Jacques Heath (Lily May Peel)  female  35.0      1   \n",
       "8  Johnson, Mrs. Oscar W (Elisabeth Vilhelmina Berg)  female  27.0      0   \n",
       "9                Nasser, Mrs. Nicholas (Adele Achem)  female  14.0      1   \n",
       "\n",
       "   Parch            Ticket     Fare Cabin Embarked  \n",
       "1      0          PC 17599  71.2833   C85        C  \n",
       "2      0  STON/O2. 3101282   7.9250   NaN        S  \n",
       "3      0            113803  53.1000  C123        S  \n",
       "8      2            347742  11.1333   NaN        S  \n",
       "9      0            237736  30.0708   NaN        C  "
      ]
     },
     "execution_count": 7,
     "metadata": {},
     "output_type": "execute_result"
    }
   ],
   "source": [
    "female_pass.head()"
   ]
  },
  {
   "cell_type": "code",
   "execution_count": 8,
   "id": "bc63a437",
   "metadata": {},
   "outputs": [
    {
     "data": {
      "text/html": [
       "<div>\n",
       "<style scoped>\n",
       "    .dataframe tbody tr th:only-of-type {\n",
       "        vertical-align: middle;\n",
       "    }\n",
       "\n",
       "    .dataframe tbody tr th {\n",
       "        vertical-align: top;\n",
       "    }\n",
       "\n",
       "    .dataframe thead th {\n",
       "        text-align: right;\n",
       "    }\n",
       "</style>\n",
       "<table border=\"1\" class=\"dataframe\">\n",
       "  <thead>\n",
       "    <tr style=\"text-align: right;\">\n",
       "      <th></th>\n",
       "      <th>Fare Sum</th>\n",
       "    </tr>\n",
       "    <tr>\n",
       "      <th>Pclass</th>\n",
       "      <th></th>\n",
       "    </tr>\n",
       "  </thead>\n",
       "  <tbody>\n",
       "    <tr>\n",
       "      <th>1</th>\n",
       "      <td>9975.8250</td>\n",
       "    </tr>\n",
       "    <tr>\n",
       "      <th>2</th>\n",
       "      <td>1669.7292</td>\n",
       "    </tr>\n",
       "    <tr>\n",
       "      <th>3</th>\n",
       "      <td>2321.1086</td>\n",
       "    </tr>\n",
       "  </tbody>\n",
       "</table>\n",
       "</div>"
      ],
      "text/plain": [
       "         Fare Sum\n",
       "Pclass           \n",
       "1       9975.8250\n",
       "2       1669.7292\n",
       "3       2321.1086"
      ]
     },
     "execution_count": 8,
     "metadata": {},
     "output_type": "execute_result"
    }
   ],
   "source": [
    "# Renaming a dataframe\n",
    "save = train.loc[train['Sex'] == 'female', ['Pclass', 'Fare']].groupby('Pclass').sum().rename(columns = {'Fare': 'Fare Sum'})\n",
    "save.index.name = 'Pclass'\n",
    "save\n",
    "\n",
    "# Renaming a series\n",
    "# train.loc[train['Sex'] == 'female', ['Pclass', 'Fare']].groupby('Pclass').sum()['Fare'].rename('Fare Sum')"
   ]
  },
  {
   "cell_type": "markdown",
   "id": "a84625ec",
   "metadata": {},
   "source": [
    "## Age"
   ]
  },
  {
   "cell_type": "markdown",
   "id": "9df27a49",
   "metadata": {},
   "source": [
    "Another aspect that would be intersting to study would be age ranges. Instead of iterating over a same number of years, we will distinguish these ranges based on more formal definitions, so that we can have a better understanding of the deciision-making realted to who gets a lifeboat and who doesn't.\n",
    "\n",
    "To understand the dependence of the age with survivability, let us study its statistical distribution with respect to age."
   ]
  },
  {
   "cell_type": "code",
   "execution_count": 9,
   "id": "0b3761b7",
   "metadata": {},
   "outputs": [
    {
     "data": {
      "text/plain": [
       "count    360.000000\n",
       "mean      31.618056\n",
       "std       14.056019\n",
       "min        1.000000\n",
       "25%       21.750000\n",
       "50%       29.000000\n",
       "75%       39.250000\n",
       "max       74.000000\n",
       "Name: Age, dtype: float64"
      ]
     },
     "execution_count": 9,
     "metadata": {},
     "output_type": "execute_result"
    }
   ],
   "source": [
    "male_pass.loc[male_pass['Survived'] == 0, 'Age'].describe()"
   ]
  },
  {
   "cell_type": "code",
   "execution_count": 10,
   "id": "cf96a5bc",
   "metadata": {},
   "outputs": [
    {
     "data": {
      "text/plain": [
       "count    64.000000\n",
       "mean     25.046875\n",
       "std      13.618591\n",
       "min       2.000000\n",
       "25%      16.750000\n",
       "50%      24.500000\n",
       "75%      33.250000\n",
       "max      57.000000\n",
       "Name: Age, dtype: float64"
      ]
     },
     "execution_count": 10,
     "metadata": {},
     "output_type": "execute_result"
    }
   ],
   "source": [
    "female_pass.loc[female_pass['Survived'] == 0, 'Age'].describe()"
   ]
  },
  {
   "cell_type": "markdown",
   "id": "3e19a4e3",
   "metadata": {},
   "source": [
    "We shall break down the passengers in 3 age groups, and distinguish by sex:\n",
    "\n",
    "- Children/Early teens: 0-14 years\n",
    "\n",
    "- Teens/Young adults: 15-24 years\n",
    "\n",
    "- Adults: 25-64 years\n",
    "\n",
    "- Seniors: 65+ years\n",
    "\n",
    "Our goal is to plot graphs of the survival rate of each sex at each age bin. "
   ]
  },
  {
   "cell_type": "code",
   "execution_count": 11,
   "id": "5505fa4b",
   "metadata": {},
   "outputs": [
    {
     "data": {
      "text/plain": [
       "1      38.0\n",
       "2      26.0\n",
       "3      35.0\n",
       "8      27.0\n",
       "9      14.0\n",
       "       ... \n",
       "880    25.0\n",
       "882    22.0\n",
       "885    39.0\n",
       "887    19.0\n",
       "888     NaN\n",
       "Name: Age, Length: 314, dtype: float64"
      ]
     },
     "execution_count": 11,
     "metadata": {},
     "output_type": "execute_result"
    }
   ],
   "source": [
    "male_pass.loc[:, ['Survived','Sex', 'Age']];\n",
    "female_pass.loc[:, ['Survived','Sex', 'Age']]['Age']"
   ]
  },
  {
   "cell_type": "markdown",
   "id": "e1299bb9",
   "metadata": {},
   "source": [
    "### Single bar plots"
   ]
  },
  {
   "cell_type": "code",
   "execution_count": 12,
   "id": "849d21c7",
   "metadata": {
    "scrolled": true
   },
   "outputs": [
    {
     "data": {
      "text/plain": [
       "0      22.0\n",
       "4      35.0\n",
       "6      54.0\n",
       "7       2.0\n",
       "12     20.0\n",
       "       ... \n",
       "883    28.0\n",
       "884    25.0\n",
       "886    27.0\n",
       "889    26.0\n",
       "890    32.0\n",
       "Name: Age, Length: 453, dtype: float64"
      ]
     },
     "execution_count": 12,
     "metadata": {},
     "output_type": "execute_result"
    }
   ],
   "source": [
    "age_male_surv = male_pass.loc[(male_pass['Survived'] == 1) & (~male_pass['Age'].isnull()), 'Age']\n",
    "age_male_tot = male_pass.loc[~male_pass['Age'].isnull(), 'Age']\n",
    "age_male_tot"
   ]
  },
  {
   "cell_type": "code",
   "execution_count": 13,
   "id": "df34590a",
   "metadata": {},
   "outputs": [],
   "source": [
    "age_female_surv = female_pass.loc[(female_pass['Survived'] == 1) & (~female_pass['Age'].isnull()), 'Age']\n",
    "age_female_tot = female_pass.loc[~female_pass['Age'].isnull(), 'Age']"
   ]
  },
  {
   "cell_type": "code",
   "execution_count": 14,
   "id": "dee0185c",
   "metadata": {
    "scrolled": false
   },
   "outputs": [
    {
     "data": {
      "image/png": "[encoded data removed]",
      "text/plain": [
       "<Figure size 1008x432 with 1 Axes>"
      ]
     },
     "metadata": {
      "needs_background": "light"
     },
     "output_type": "display_data"
    }
   ],
   "source": [
    "# Define axes\n",
    "male_surv = pd.cut(age_male_surv, bins = [0,10,20,30,40,50,60,70,80], include_lowest=True)\n",
    "male_tot =  pd.cut(age_male_tot, bins = [0,10,20,30,40,50,60,70,80], include_lowest=True)\n",
    "\n",
    "# Change font size\n",
    "SMALL_SIZE = 12\n",
    "plt.rc('font', size=SMALL_SIZE)\n",
    "plt.rc('axes', titlesize=SMALL_SIZE)\n",
    "\n",
    "male_surv_counts = male_surv.value_counts(sort = False)\n",
    "male_tot_counts = male_tot.value_counts(sort = False)\n",
    "\n",
    "male_perc_norm = male_surv_counts / male_tot_counts * 100\n",
    "\n",
    "ax = male_perc_norm.plot.bar(rot = 0, color = \"b\", figsize = (14,6))\n",
    "plt.ylabel(\"Survival Rate\")\n",
    "plt.xlabel(\"Age Interval\")\n",
    "plt.show()"
   ]
  },
  {
   "cell_type": "code",
   "execution_count": 15,
   "id": "052ba872",
   "metadata": {},
   "outputs": [
    {
     "data": {
      "image/png": "[encoded data removed]",
      "text/plain": [
       "<Figure size 1008x432 with 1 Axes>"
      ]
     },
     "metadata": {
      "needs_background": "light"
     },
     "output_type": "display_data"
    }
   ],
   "source": [
    "# Define axes\n",
    "female_surv = pd.cut(age_female_surv, bins = [0,10,20,30,40,50,60,70,80], include_lowest=True)\n",
    "female_tot =  pd.cut(age_female_tot, bins = [0,10,20,30,40,50,60,70,80], include_lowest=True)\n",
    "\n",
    "# Change font size\n",
    "SMALL_SIZE = 12\n",
    "plt.rc('font', size=SMALL_SIZE)\n",
    "plt.rc('axes', titlesize=SMALL_SIZE)\n",
    "\n",
    "female_surv_counts = female_surv.value_counts(sort = False)\n",
    "female_tot_counts = female_tot.value_counts(sort = False)\n",
    "\n",
    "female_perc_norm = female_surv_counts / female_tot_counts * 100\n",
    "\n",
    "ax = female_perc_norm.plot.bar(rot = 0, color = \"orange\", figsize = (14,6))\n",
    "plt.ylabel(\"Survival Rate\")\n",
    "plt.xlabel(\"Age Interval\")\n",
    "plt.show()"
   ]
  },
  {
   "cell_type": "markdown",
   "id": "62356cf3",
   "metadata": {},
   "source": [
    "### Multi-bar plot"
   ]
  },
  {
   "cell_type": "markdown",
   "id": "8d9233c0",
   "metadata": {},
   "source": [
    "Combining the graphs in the previous item:"
   ]
  },
  {
   "cell_type": "code",
   "execution_count": 16,
   "id": "92a3d733",
   "metadata": {},
   "outputs": [
    {
     "data": {
      "image/png": "[encoded data removed]",
      "text/plain": [
       "<Figure size 1008x432 with 1 Axes>"
      ]
     },
     "metadata": {
      "needs_background": "light"
     },
     "output_type": "display_data"
    }
   ],
   "source": [
    "# Define axes\n",
    "x = ['0 to 10','11 to 20', '21 to 30', '31 to 40', '41 to 50','51 to 60','61 to 70', '71 to 80']\n",
    "x_axis = np.arange(len(x))\n",
    "y0 = male_perc_norm\n",
    "y1 = female_perc_norm\n",
    "\n",
    "# Change font size\n",
    "SMALL_SIZE = 16\n",
    "plt.rc('font', size=SMALL_SIZE)\n",
    "plt.rc('axes', titlesize=SMALL_SIZE)\n",
    "\n",
    "# Multi-bar plot\n",
    "plt.figure(figsize = (14,6))\n",
    "plt.bar(x_axis - 0.2, y0, 0.4, label = 'Men')\n",
    "plt.bar(x_axis + 0.2, y1, 0.4, label = 'Women')\n",
    "plt.xticks(x_axis, x)\n",
    "plt.ylabel(\"Survival Rate\")\n",
    "plt.xlabel(\"Age Interval\")\n",
    "plt.legend()\n",
    "plt.show()"
   ]
  },
  {
   "cell_type": "markdown",
   "id": "757667ff",
   "metadata": {},
   "source": [
    "The survivability of women is higher than that of men, across the entire board. The only instance where they are comparable is in the ages 0 to 10."
   ]
  },
  {
   "cell_type": "code",
   "execution_count": 17,
   "id": "39568891",
   "metadata": {
    "scrolled": true
   },
   "outputs": [
    {
     "name": "stdout",
     "output_type": "stream",
     "text": [
      "(-0.001, 10.0]    57.575758\n",
      "(10.0, 20.0]      14.492754\n",
      "(20.0, 30.0]      15.436242\n",
      "(30.0, 40.0]      23.000000\n",
      "(40.0, 50.0]      21.818182\n",
      "(50.0, 60.0]      14.285714\n",
      "(60.0, 70.0]       7.142857\n",
      "(70.0, 80.0]      20.000000\n",
      "Name: Age, dtype: float64 (-0.001, 10.0]     61.290323\n",
      "(10.0, 20.0]       73.913043\n",
      "(20.0, 30.0]       75.308642\n",
      "(30.0, 40.0]       83.636364\n",
      "(40.0, 50.0]       67.741935\n",
      "(50.0, 60.0]       92.857143\n",
      "(60.0, 70.0]      100.000000\n",
      "(70.0, 80.0]             NaN\n",
      "Name: Age, dtype: float64\n"
     ]
    }
   ],
   "source": [
    "print(male_perc_norm, female_perc_norm)"
   ]
  },
  {
   "cell_type": "markdown",
   "id": "f9dad630",
   "metadata": {},
   "source": [
    "## Ticket class"
   ]
  },
  {
   "cell_type": "markdown",
   "id": "9c354c98",
   "metadata": {},
   "source": [
    "The first thing we will investigate is information on the ticket classes."
   ]
  },
  {
   "cell_type": "code",
   "execution_count": 18,
   "id": "e88d2f58",
   "metadata": {
    "scrolled": true
   },
   "outputs": [
    {
     "data": {
      "text/html": [
       "<div>\n",
       "<style scoped>\n",
       "    .dataframe tbody tr th:only-of-type {\n",
       "        vertical-align: middle;\n",
       "    }\n",
       "\n",
       "    .dataframe tbody tr th {\n",
       "        vertical-align: top;\n",
       "    }\n",
       "\n",
       "    .dataframe thead tr th {\n",
       "        text-align: left;\n",
       "    }\n",
       "\n",
       "    .dataframe thead tr:last-of-type th {\n",
       "        text-align: right;\n",
       "    }\n",
       "</style>\n",
       "<table border=\"1\" class=\"dataframe\">\n",
       "  <thead>\n",
       "    <tr>\n",
       "      <th></th>\n",
       "      <th colspan=\"8\" halign=\"left\">Fare</th>\n",
       "    </tr>\n",
       "    <tr>\n",
       "      <th></th>\n",
       "      <th>count</th>\n",
       "      <th>mean</th>\n",
       "      <th>std</th>\n",
       "      <th>min</th>\n",
       "      <th>25%</th>\n",
       "      <th>50%</th>\n",
       "      <th>75%</th>\n",
       "      <th>max</th>\n",
       "    </tr>\n",
       "    <tr>\n",
       "      <th>Pclass</th>\n",
       "      <th></th>\n",
       "      <th></th>\n",
       "      <th></th>\n",
       "      <th></th>\n",
       "      <th></th>\n",
       "      <th></th>\n",
       "      <th></th>\n",
       "      <th></th>\n",
       "    </tr>\n",
       "  </thead>\n",
       "  <tbody>\n",
       "    <tr>\n",
       "      <th>1</th>\n",
       "      <td>216.0</td>\n",
       "      <td>84.154687</td>\n",
       "      <td>78.380373</td>\n",
       "      <td>0.0</td>\n",
       "      <td>30.92395</td>\n",
       "      <td>60.2875</td>\n",
       "      <td>93.5</td>\n",
       "      <td>512.3292</td>\n",
       "    </tr>\n",
       "    <tr>\n",
       "      <th>2</th>\n",
       "      <td>184.0</td>\n",
       "      <td>20.662183</td>\n",
       "      <td>13.417399</td>\n",
       "      <td>0.0</td>\n",
       "      <td>13.00000</td>\n",
       "      <td>14.2500</td>\n",
       "      <td>26.0</td>\n",
       "      <td>73.5000</td>\n",
       "    </tr>\n",
       "    <tr>\n",
       "      <th>3</th>\n",
       "      <td>491.0</td>\n",
       "      <td>13.675550</td>\n",
       "      <td>11.778142</td>\n",
       "      <td>0.0</td>\n",
       "      <td>7.75000</td>\n",
       "      <td>8.0500</td>\n",
       "      <td>15.5</td>\n",
       "      <td>69.5500</td>\n",
       "    </tr>\n",
       "  </tbody>\n",
       "</table>\n",
       "</div>"
      ],
      "text/plain": [
       "         Fare                                                              \n",
       "        count       mean        std  min       25%      50%   75%       max\n",
       "Pclass                                                                     \n",
       "1       216.0  84.154687  78.380373  0.0  30.92395  60.2875  93.5  512.3292\n",
       "2       184.0  20.662183  13.417399  0.0  13.00000  14.2500  26.0   73.5000\n",
       "3       491.0  13.675550  11.778142  0.0   7.75000   8.0500  15.5   69.5500"
      ]
     },
     "execution_count": 18,
     "metadata": {},
     "output_type": "execute_result"
    }
   ],
   "source": [
    "train.loc[:, ['Pclass', 'Fare']].groupby('Pclass').describe()"
   ]
  },
  {
   "cell_type": "markdown",
   "id": "69360f06",
   "metadata": {},
   "source": [
    "What is interesting in these prices is that the minimum is 0. This might be an indicator of crew members. Let us count these."
   ]
  },
  {
   "cell_type": "markdown",
   "id": "cf3b46b0",
   "metadata": {},
   "source": [
    "### Survival rate per class"
   ]
  },
  {
   "cell_type": "code",
   "execution_count": 19,
   "id": "d2f9f220",
   "metadata": {},
   "outputs": [
    {
     "data": {
      "text/plain": [
       "1    62.962963\n",
       "2    47.282609\n",
       "3    24.236253\n",
       "Name: Pclass, dtype: float64"
      ]
     },
     "execution_count": 19,
     "metadata": {},
     "output_type": "execute_result"
    }
   ],
   "source": [
    "fare_total = train['Pclass'].value_counts()\n",
    "fare_surv = train.loc[train['Survived'] == 1, 'Pclass'].value_counts()\n",
    "fare_surv / fare_total * 100"
   ]
  },
  {
   "cell_type": "code",
   "execution_count": 20,
   "id": "14715d3e",
   "metadata": {},
   "outputs": [
    {
     "data": {
      "text/plain": [
       "3    47\n",
       "1    45\n",
       "2    17\n",
       "Name: Pclass, dtype: int64"
      ]
     },
     "execution_count": 20,
     "metadata": {},
     "output_type": "execute_result"
    }
   ],
   "source": [
    "male_pass.loc[train['Survived'] == 1, 'Pclass'].value_counts()"
   ]
  },
  {
   "cell_type": "code",
   "execution_count": 21,
   "id": "5ee0ddca",
   "metadata": {},
   "outputs": [],
   "source": [
    "m_fare_total = male_pass.loc[:,'Pclass'].value_counts()\n",
    "m_fare_surv = male_pass.loc[train['Survived'] == 1, 'Pclass'].value_counts()\n",
    "m_fare_surv_perc = m_fare_surv / m_fare_total * 100\n",
    "\n",
    "f_fare_total = female_pass.loc[: , 'Pclass'].value_counts()\n",
    "f_fare_surv = female_pass.loc[train['Survived'] == 1, 'Pclass'].value_counts()\n",
    "f_fare_surv_perc = f_fare_surv / f_fare_total * 100"
   ]
  },
  {
   "cell_type": "code",
   "execution_count": 22,
   "id": "06022d8a",
   "metadata": {},
   "outputs": [
    {
     "data": {
      "text/plain": [
       "1    36.885246\n",
       "2    15.740741\n",
       "3    13.544669\n",
       "Name: Pclass, dtype: float64"
      ]
     },
     "execution_count": 22,
     "metadata": {},
     "output_type": "execute_result"
    }
   ],
   "source": [
    "m_fare_surv_perc.sort_index()"
   ]
  },
  {
   "cell_type": "code",
   "execution_count": 23,
   "id": "81eabfa7",
   "metadata": {
    "scrolled": false
   },
   "outputs": [
    {
     "data": {
      "image/png": "[encoded data removed]",
      "text/plain": [
       "<Figure size 1008x432 with 1 Axes>"
      ]
     },
     "metadata": {
      "needs_background": "light"
     },
     "output_type": "display_data"
    }
   ],
   "source": [
    "# Define axes\n",
    "x = ['1', '2', '3']\n",
    "x_axis = np.arange(len(x))\n",
    "y0 = m_fare_surv_perc.sort_index()\n",
    "y1 = f_fare_surv_perc.sort_index()\n",
    "\n",
    "# Change font size\n",
    "SMALL_SIZE = 16\n",
    "plt.rc('font', size=SMALL_SIZE)\n",
    "plt.rc('axes', titlesize=SMALL_SIZE)\n",
    "\n",
    "# Multi-bar plot\n",
    "plt.figure(figsize = (14,6))\n",
    "plt.bar(x_axis - 0.2, y0, 0.4, label = 'Men')\n",
    "plt.bar(x_axis + 0.2, y1, 0.4, label = 'Women')\n",
    "plt.xticks(x_axis, x)\n",
    "plt.ylabel(\"Survival Rate\")\n",
    "plt.xlabel(\"Ticket Class\")\n",
    "plt.legend()\n",
    "plt.show()"
   ]
  },
  {
   "cell_type": "markdown",
   "id": "e46da5cd",
   "metadata": {},
   "source": [
    "It is clear that the higher class tickets increases one's survivability."
   ]
  },
  {
   "cell_type": "markdown",
   "id": "c96f0156",
   "metadata": {},
   "source": [
    "### Free ticket passengers"
   ]
  },
  {
   "cell_type": "code",
   "execution_count": 24,
   "id": "c159c885",
   "metadata": {},
   "outputs": [
    {
     "data": {
      "text/plain": [
       "Pclass  Fare\n",
       "1       0.0     5\n",
       "2       0.0     6\n",
       "3       0.0     4\n",
       "dtype: int64"
      ]
     },
     "execution_count": 24,
     "metadata": {},
     "output_type": "execute_result"
    }
   ],
   "source": [
    "train.loc[train.Fare == 0.0, ['Pclass', 'Fare']].groupby('Pclass').value_counts()"
   ]
  },
  {
   "cell_type": "markdown",
   "id": "6acb6d32",
   "metadata": {},
   "source": [
    "We have 15 passengers that did not pay fairs."
   ]
  },
  {
   "cell_type": "code",
   "execution_count": 25,
   "id": "942d2aae",
   "metadata": {},
   "outputs": [
    {
     "data": {
      "text/html": [
       "<div>\n",
       "<style scoped>\n",
       "    .dataframe tbody tr th:only-of-type {\n",
       "        vertical-align: middle;\n",
       "    }\n",
       "\n",
       "    .dataframe tbody tr th {\n",
       "        vertical-align: top;\n",
       "    }\n",
       "\n",
       "    .dataframe thead th {\n",
       "        text-align: right;\n",
       "    }\n",
       "</style>\n",
       "<table border=\"1\" class=\"dataframe\">\n",
       "  <thead>\n",
       "    <tr style=\"text-align: right;\">\n",
       "      <th></th>\n",
       "      <th>PassengerId</th>\n",
       "      <th>Survived</th>\n",
       "      <th>Pclass</th>\n",
       "      <th>Name</th>\n",
       "      <th>Sex</th>\n",
       "      <th>Age</th>\n",
       "      <th>SibSp</th>\n",
       "      <th>Parch</th>\n",
       "      <th>Ticket</th>\n",
       "      <th>Fare</th>\n",
       "      <th>Cabin</th>\n",
       "      <th>Embarked</th>\n",
       "    </tr>\n",
       "  </thead>\n",
       "  <tbody>\n",
       "    <tr>\n",
       "      <th>179</th>\n",
       "      <td>180</td>\n",
       "      <td>0</td>\n",
       "      <td>3</td>\n",
       "      <td>Leonard, Mr. Lionel</td>\n",
       "      <td>male</td>\n",
       "      <td>36.0</td>\n",
       "      <td>0</td>\n",
       "      <td>0</td>\n",
       "      <td>LINE</td>\n",
       "      <td>0.0</td>\n",
       "      <td>NaN</td>\n",
       "      <td>S</td>\n",
       "    </tr>\n",
       "    <tr>\n",
       "      <th>263</th>\n",
       "      <td>264</td>\n",
       "      <td>0</td>\n",
       "      <td>1</td>\n",
       "      <td>Harrison, Mr. William</td>\n",
       "      <td>male</td>\n",
       "      <td>40.0</td>\n",
       "      <td>0</td>\n",
       "      <td>0</td>\n",
       "      <td>112059</td>\n",
       "      <td>0.0</td>\n",
       "      <td>B94</td>\n",
       "      <td>S</td>\n",
       "    </tr>\n",
       "    <tr>\n",
       "      <th>271</th>\n",
       "      <td>272</td>\n",
       "      <td>1</td>\n",
       "      <td>3</td>\n",
       "      <td>Tornquist, Mr. William Henry</td>\n",
       "      <td>male</td>\n",
       "      <td>25.0</td>\n",
       "      <td>0</td>\n",
       "      <td>0</td>\n",
       "      <td>LINE</td>\n",
       "      <td>0.0</td>\n",
       "      <td>NaN</td>\n",
       "      <td>S</td>\n",
       "    </tr>\n",
       "    <tr>\n",
       "      <th>277</th>\n",
       "      <td>278</td>\n",
       "      <td>0</td>\n",
       "      <td>2</td>\n",
       "      <td>Parkes, Mr. Francis \"Frank\"</td>\n",
       "      <td>male</td>\n",
       "      <td>NaN</td>\n",
       "      <td>0</td>\n",
       "      <td>0</td>\n",
       "      <td>239853</td>\n",
       "      <td>0.0</td>\n",
       "      <td>NaN</td>\n",
       "      <td>S</td>\n",
       "    </tr>\n",
       "    <tr>\n",
       "      <th>302</th>\n",
       "      <td>303</td>\n",
       "      <td>0</td>\n",
       "      <td>3</td>\n",
       "      <td>Johnson, Mr. William Cahoone Jr</td>\n",
       "      <td>male</td>\n",
       "      <td>19.0</td>\n",
       "      <td>0</td>\n",
       "      <td>0</td>\n",
       "      <td>LINE</td>\n",
       "      <td>0.0</td>\n",
       "      <td>NaN</td>\n",
       "      <td>S</td>\n",
       "    </tr>\n",
       "    <tr>\n",
       "      <th>413</th>\n",
       "      <td>414</td>\n",
       "      <td>0</td>\n",
       "      <td>2</td>\n",
       "      <td>Cunningham, Mr. Alfred Fleming</td>\n",
       "      <td>male</td>\n",
       "      <td>NaN</td>\n",
       "      <td>0</td>\n",
       "      <td>0</td>\n",
       "      <td>239853</td>\n",
       "      <td>0.0</td>\n",
       "      <td>NaN</td>\n",
       "      <td>S</td>\n",
       "    </tr>\n",
       "    <tr>\n",
       "      <th>466</th>\n",
       "      <td>467</td>\n",
       "      <td>0</td>\n",
       "      <td>2</td>\n",
       "      <td>Campbell, Mr. William</td>\n",
       "      <td>male</td>\n",
       "      <td>NaN</td>\n",
       "      <td>0</td>\n",
       "      <td>0</td>\n",
       "      <td>239853</td>\n",
       "      <td>0.0</td>\n",
       "      <td>NaN</td>\n",
       "      <td>S</td>\n",
       "    </tr>\n",
       "    <tr>\n",
       "      <th>481</th>\n",
       "      <td>482</td>\n",
       "      <td>0</td>\n",
       "      <td>2</td>\n",
       "      <td>Frost, Mr. Anthony Wood \"Archie\"</td>\n",
       "      <td>male</td>\n",
       "      <td>NaN</td>\n",
       "      <td>0</td>\n",
       "      <td>0</td>\n",
       "      <td>239854</td>\n",
       "      <td>0.0</td>\n",
       "      <td>NaN</td>\n",
       "      <td>S</td>\n",
       "    </tr>\n",
       "    <tr>\n",
       "      <th>597</th>\n",
       "      <td>598</td>\n",
       "      <td>0</td>\n",
       "      <td>3</td>\n",
       "      <td>Johnson, Mr. Alfred</td>\n",
       "      <td>male</td>\n",
       "      <td>49.0</td>\n",
       "      <td>0</td>\n",
       "      <td>0</td>\n",
       "      <td>LINE</td>\n",
       "      <td>0.0</td>\n",
       "      <td>NaN</td>\n",
       "      <td>S</td>\n",
       "    </tr>\n",
       "    <tr>\n",
       "      <th>633</th>\n",
       "      <td>634</td>\n",
       "      <td>0</td>\n",
       "      <td>1</td>\n",
       "      <td>Parr, Mr. William Henry Marsh</td>\n",
       "      <td>male</td>\n",
       "      <td>NaN</td>\n",
       "      <td>0</td>\n",
       "      <td>0</td>\n",
       "      <td>112052</td>\n",
       "      <td>0.0</td>\n",
       "      <td>NaN</td>\n",
       "      <td>S</td>\n",
       "    </tr>\n",
       "    <tr>\n",
       "      <th>674</th>\n",
       "      <td>675</td>\n",
       "      <td>0</td>\n",
       "      <td>2</td>\n",
       "      <td>Watson, Mr. Ennis Hastings</td>\n",
       "      <td>male</td>\n",
       "      <td>NaN</td>\n",
       "      <td>0</td>\n",
       "      <td>0</td>\n",
       "      <td>239856</td>\n",
       "      <td>0.0</td>\n",
       "      <td>NaN</td>\n",
       "      <td>S</td>\n",
       "    </tr>\n",
       "    <tr>\n",
       "      <th>732</th>\n",
       "      <td>733</td>\n",
       "      <td>0</td>\n",
       "      <td>2</td>\n",
       "      <td>Knight, Mr. Robert J</td>\n",
       "      <td>male</td>\n",
       "      <td>NaN</td>\n",
       "      <td>0</td>\n",
       "      <td>0</td>\n",
       "      <td>239855</td>\n",
       "      <td>0.0</td>\n",
       "      <td>NaN</td>\n",
       "      <td>S</td>\n",
       "    </tr>\n",
       "    <tr>\n",
       "      <th>806</th>\n",
       "      <td>807</td>\n",
       "      <td>0</td>\n",
       "      <td>1</td>\n",
       "      <td>Andrews, Mr. Thomas Jr</td>\n",
       "      <td>male</td>\n",
       "      <td>39.0</td>\n",
       "      <td>0</td>\n",
       "      <td>0</td>\n",
       "      <td>112050</td>\n",
       "      <td>0.0</td>\n",
       "      <td>A36</td>\n",
       "      <td>S</td>\n",
       "    </tr>\n",
       "    <tr>\n",
       "      <th>815</th>\n",
       "      <td>816</td>\n",
       "      <td>0</td>\n",
       "      <td>1</td>\n",
       "      <td>Fry, Mr. Richard</td>\n",
       "      <td>male</td>\n",
       "      <td>NaN</td>\n",
       "      <td>0</td>\n",
       "      <td>0</td>\n",
       "      <td>112058</td>\n",
       "      <td>0.0</td>\n",
       "      <td>B102</td>\n",
       "      <td>S</td>\n",
       "    </tr>\n",
       "    <tr>\n",
       "      <th>822</th>\n",
       "      <td>823</td>\n",
       "      <td>0</td>\n",
       "      <td>1</td>\n",
       "      <td>Reuchlin, Jonkheer. John George</td>\n",
       "      <td>male</td>\n",
       "      <td>38.0</td>\n",
       "      <td>0</td>\n",
       "      <td>0</td>\n",
       "      <td>19972</td>\n",
       "      <td>0.0</td>\n",
       "      <td>NaN</td>\n",
       "      <td>S</td>\n",
       "    </tr>\n",
       "  </tbody>\n",
       "</table>\n",
       "</div>"
      ],
      "text/plain": [
       "     PassengerId  Survived  Pclass                              Name   Sex  \\\n",
       "179          180         0       3               Leonard, Mr. Lionel  male   \n",
       "263          264         0       1             Harrison, Mr. William  male   \n",
       "271          272         1       3      Tornquist, Mr. William Henry  male   \n",
       "277          278         0       2       Parkes, Mr. Francis \"Frank\"  male   \n",
       "302          303         0       3   Johnson, Mr. William Cahoone Jr  male   \n",
       "413          414         0       2    Cunningham, Mr. Alfred Fleming  male   \n",
       "466          467         0       2             Campbell, Mr. William  male   \n",
       "481          482         0       2  Frost, Mr. Anthony Wood \"Archie\"  male   \n",
       "597          598         0       3               Johnson, Mr. Alfred  male   \n",
       "633          634         0       1     Parr, Mr. William Henry Marsh  male   \n",
       "674          675         0       2        Watson, Mr. Ennis Hastings  male   \n",
       "732          733         0       2              Knight, Mr. Robert J  male   \n",
       "806          807         0       1            Andrews, Mr. Thomas Jr  male   \n",
       "815          816         0       1                  Fry, Mr. Richard  male   \n",
       "822          823         0       1   Reuchlin, Jonkheer. John George  male   \n",
       "\n",
       "      Age  SibSp  Parch  Ticket  Fare Cabin Embarked  \n",
       "179  36.0      0      0    LINE   0.0   NaN        S  \n",
       "263  40.0      0      0  112059   0.0   B94        S  \n",
       "271  25.0      0      0    LINE   0.0   NaN        S  \n",
       "277   NaN      0      0  239853   0.0   NaN        S  \n",
       "302  19.0      0      0    LINE   0.0   NaN        S  \n",
       "413   NaN      0      0  239853   0.0   NaN        S  \n",
       "466   NaN      0      0  239853   0.0   NaN        S  \n",
       "481   NaN      0      0  239854   0.0   NaN        S  \n",
       "597  49.0      0      0    LINE   0.0   NaN        S  \n",
       "633   NaN      0      0  112052   0.0   NaN        S  \n",
       "674   NaN      0      0  239856   0.0   NaN        S  \n",
       "732   NaN      0      0  239855   0.0   NaN        S  \n",
       "806  39.0      0      0  112050   0.0   A36        S  \n",
       "815   NaN      0      0  112058   0.0  B102        S  \n",
       "822  38.0      0      0   19972   0.0   NaN        S  "
      ]
     },
     "execution_count": 25,
     "metadata": {},
     "output_type": "execute_result"
    }
   ],
   "source": [
    "train.loc[train.Fare == 0.0,:]"
   ]
  },
  {
   "cell_type": "markdown",
   "id": "917f8ccd",
   "metadata": {},
   "source": [
    "We further note that all these passengers are male and all of them embarked in Southampton. Upon research in google, I discovered some additional pieces of information. First, the reason some of these have 'LINE' tickets is likely due to their affiliation with a New York ship company, the 'American Line'. This was confirmed by Googling the one survivor among these passengers - Mr. William Henry Tornquist -, who was employed to the American Line.\n",
    "\n",
    "In other words, the employees of the American Line were supposed to return to New York in another vessel, but due to a coal strike in Britain, tehy were awarded free 3rd class tickets to the Titanic."
   ]
  },
  {
   "cell_type": "code",
   "execution_count": 26,
   "id": "680109dd",
   "metadata": {},
   "outputs": [
    {
     "data": {
      "text/html": [
       "<div>\n",
       "<style scoped>\n",
       "    .dataframe tbody tr th:only-of-type {\n",
       "        vertical-align: middle;\n",
       "    }\n",
       "\n",
       "    .dataframe tbody tr th {\n",
       "        vertical-align: top;\n",
       "    }\n",
       "\n",
       "    .dataframe thead th {\n",
       "        text-align: right;\n",
       "    }\n",
       "</style>\n",
       "<table border=\"1\" class=\"dataframe\">\n",
       "  <thead>\n",
       "    <tr style=\"text-align: right;\">\n",
       "      <th></th>\n",
       "      <th>PassengerId</th>\n",
       "      <th>Survived</th>\n",
       "      <th>Pclass</th>\n",
       "      <th>Name</th>\n",
       "      <th>Sex</th>\n",
       "      <th>Age</th>\n",
       "      <th>SibSp</th>\n",
       "      <th>Parch</th>\n",
       "      <th>Ticket</th>\n",
       "      <th>Fare</th>\n",
       "      <th>Cabin</th>\n",
       "      <th>Embarked</th>\n",
       "    </tr>\n",
       "  </thead>\n",
       "  <tbody>\n",
       "    <tr>\n",
       "      <th>179</th>\n",
       "      <td>180</td>\n",
       "      <td>0</td>\n",
       "      <td>3</td>\n",
       "      <td>Leonard, Mr. Lionel</td>\n",
       "      <td>male</td>\n",
       "      <td>36.0</td>\n",
       "      <td>0</td>\n",
       "      <td>0</td>\n",
       "      <td>LINE</td>\n",
       "      <td>0.0</td>\n",
       "      <td>NaN</td>\n",
       "      <td>S</td>\n",
       "    </tr>\n",
       "    <tr>\n",
       "      <th>271</th>\n",
       "      <td>272</td>\n",
       "      <td>1</td>\n",
       "      <td>3</td>\n",
       "      <td>Tornquist, Mr. William Henry</td>\n",
       "      <td>male</td>\n",
       "      <td>25.0</td>\n",
       "      <td>0</td>\n",
       "      <td>0</td>\n",
       "      <td>LINE</td>\n",
       "      <td>0.0</td>\n",
       "      <td>NaN</td>\n",
       "      <td>S</td>\n",
       "    </tr>\n",
       "    <tr>\n",
       "      <th>302</th>\n",
       "      <td>303</td>\n",
       "      <td>0</td>\n",
       "      <td>3</td>\n",
       "      <td>Johnson, Mr. William Cahoone Jr</td>\n",
       "      <td>male</td>\n",
       "      <td>19.0</td>\n",
       "      <td>0</td>\n",
       "      <td>0</td>\n",
       "      <td>LINE</td>\n",
       "      <td>0.0</td>\n",
       "      <td>NaN</td>\n",
       "      <td>S</td>\n",
       "    </tr>\n",
       "    <tr>\n",
       "      <th>597</th>\n",
       "      <td>598</td>\n",
       "      <td>0</td>\n",
       "      <td>3</td>\n",
       "      <td>Johnson, Mr. Alfred</td>\n",
       "      <td>male</td>\n",
       "      <td>49.0</td>\n",
       "      <td>0</td>\n",
       "      <td>0</td>\n",
       "      <td>LINE</td>\n",
       "      <td>0.0</td>\n",
       "      <td>NaN</td>\n",
       "      <td>S</td>\n",
       "    </tr>\n",
       "  </tbody>\n",
       "</table>\n",
       "</div>"
      ],
      "text/plain": [
       "     PassengerId  Survived  Pclass                             Name   Sex  \\\n",
       "179          180         0       3              Leonard, Mr. Lionel  male   \n",
       "271          272         1       3     Tornquist, Mr. William Henry  male   \n",
       "302          303         0       3  Johnson, Mr. William Cahoone Jr  male   \n",
       "597          598         0       3              Johnson, Mr. Alfred  male   \n",
       "\n",
       "      Age  SibSp  Parch Ticket  Fare Cabin Embarked  \n",
       "179  36.0      0      0   LINE   0.0   NaN        S  \n",
       "271  25.0      0      0   LINE   0.0   NaN        S  \n",
       "302  19.0      0      0   LINE   0.0   NaN        S  \n",
       "597  49.0      0      0   LINE   0.0   NaN        S  "
      ]
     },
     "execution_count": 26,
     "metadata": {},
     "output_type": "execute_result"
    }
   ],
   "source": [
    "train.loc[(train.Fare == 0.0) & (train.Ticket == 'LINE'),:]"
   ]
  },
  {
   "cell_type": "code",
   "execution_count": 27,
   "id": "783c81b1",
   "metadata": {},
   "outputs": [
    {
     "data": {
      "text/plain": [
       "0    0.933333\n",
       "1    0.066667\n",
       "Name: Survived, dtype: float64"
      ]
     },
     "execution_count": 27,
     "metadata": {},
     "output_type": "execute_result"
    }
   ],
   "source": [
    "train.loc[train.Fare == 0.0, 'Survived'].value_counts() / train.loc[train.Fare == 0.0, 'Survived'].shape[0]"
   ]
  },
  {
   "cell_type": "markdown",
   "id": "0688f62d",
   "metadata": {},
   "source": [
    "Therefore, there is no necessary correlation with free tickets and being a crew member, apparently.\n",
    "\n",
    "By googling one of the random passengers among these with free tickets, Mr. Alfred Flemming Cunningham, I discovered that Alfred was one of the nine-strong \"guarantee group\" of Harland and Wolff employees chosen to oversee the smooth running of the Titanic's maiden voyage. This means we could account for 9 + 4 = 13 free tickets. \n",
    "\n",
    "We will not indulge in further specifics on this matter. What we have learned from the inspection of this peculiar quality (free ticket fare) was that there is no single reason for this ticket to be free, and therefore the fact that there is such a low survival rate for members of this group (<b>6.7%</b>) compared to the average surival rate (<b>38.4%</b>) is more likely to be the result of coincidence."
   ]
  },
  {
   "cell_type": "markdown",
   "id": "ed90e64c",
   "metadata": {},
   "source": [
    "## Family"
   ]
  },
  {
   "cell_type": "markdown",
   "id": "4530e991",
   "metadata": {},
   "source": [
    "What I'd like to uncover in this section of the analysis is how Siblings/Spouses or Parents/Children influences the chances of survival."
   ]
  },
  {
   "cell_type": "markdown",
   "id": "a294fe18",
   "metadata": {},
   "source": [
    "### `SibSp`"
   ]
  },
  {
   "cell_type": "code",
   "execution_count": 28,
   "id": "0815f8c0",
   "metadata": {
    "scrolled": false
   },
   "outputs": [
    {
     "data": {
      "text/plain": [
       "0    608\n",
       "1    209\n",
       "2     28\n",
       "4     18\n",
       "3     16\n",
       "8      7\n",
       "5      5\n",
       "Name: SibSp, dtype: int64"
      ]
     },
     "execution_count": 28,
     "metadata": {},
     "output_type": "execute_result"
    }
   ],
   "source": [
    "train['SibSp'].value_counts()"
   ]
  },
  {
   "cell_type": "markdown",
   "id": "30930203",
   "metadata": {},
   "source": [
    "In this case, it would be interesting to calculate the survival rate in each one of the SibSp groups above. Also, since the sex is a remarkably significant characteristic when considering survival, it would be interesting to make graphs similar to the one present in section <b>3.2</b>. "
   ]
  },
  {
   "cell_type": "code",
   "execution_count": 29,
   "id": "911a8d4d",
   "metadata": {},
   "outputs": [
    {
     "data": {
      "text/html": [
       "<div>\n",
       "<style scoped>\n",
       "    .dataframe tbody tr th:only-of-type {\n",
       "        vertical-align: middle;\n",
       "    }\n",
       "\n",
       "    .dataframe tbody tr th {\n",
       "        vertical-align: top;\n",
       "    }\n",
       "\n",
       "    .dataframe thead th {\n",
       "        text-align: right;\n",
       "    }\n",
       "</style>\n",
       "<table border=\"1\" class=\"dataframe\">\n",
       "  <thead>\n",
       "    <tr style=\"text-align: right;\">\n",
       "      <th></th>\n",
       "      <th>PassengerId</th>\n",
       "    </tr>\n",
       "    <tr>\n",
       "      <th>SibSp</th>\n",
       "      <th></th>\n",
       "    </tr>\n",
       "  </thead>\n",
       "  <tbody>\n",
       "    <tr>\n",
       "      <th>0</th>\n",
       "      <td>34.539474</td>\n",
       "    </tr>\n",
       "    <tr>\n",
       "      <th>1</th>\n",
       "      <td>53.588517</td>\n",
       "    </tr>\n",
       "    <tr>\n",
       "      <th>2</th>\n",
       "      <td>46.428571</td>\n",
       "    </tr>\n",
       "    <tr>\n",
       "      <th>3</th>\n",
       "      <td>25.000000</td>\n",
       "    </tr>\n",
       "    <tr>\n",
       "      <th>4</th>\n",
       "      <td>16.666667</td>\n",
       "    </tr>\n",
       "    <tr>\n",
       "      <th>5</th>\n",
       "      <td>0.000000</td>\n",
       "    </tr>\n",
       "    <tr>\n",
       "      <th>8</th>\n",
       "      <td>0.000000</td>\n",
       "    </tr>\n",
       "  </tbody>\n",
       "</table>\n",
       "</div>"
      ],
      "text/plain": [
       "       PassengerId\n",
       "SibSp             \n",
       "0        34.539474\n",
       "1        53.588517\n",
       "2        46.428571\n",
       "3        25.000000\n",
       "4        16.666667\n",
       "5         0.000000\n",
       "8         0.000000"
      ]
     },
     "execution_count": 29,
     "metadata": {},
     "output_type": "execute_result"
    }
   ],
   "source": [
    "sibsp_counts = train.loc[: , ['SibSp', 'PassengerId']].groupby('SibSp').count()\n",
    "sibsp_surv_counts = train.loc[train['Survived'] == 1, ['SibSp', 'PassengerId']].groupby('SibSp').count()\n",
    "sibsp_perc_surv = sibsp_surv_counts / sibsp_counts * 100\n",
    "sibsp_perc_surv = sibsp_perc_surv.replace(np.nan, 0)\n",
    "sibsp_perc_surv"
   ]
  },
  {
   "cell_type": "markdown",
   "id": "7c1aaf18",
   "metadata": {},
   "source": [
    "The survival rate seems to cap out at a single sibling/spouse. What is curious is that, starting from 1, the larger the familiy, the lower the chances of survival. This might be a reflection of the fact that siblings/spouses refuse to leave their significant other(s) behind to die. It's either all of them, or none."
   ]
  },
  {
   "cell_type": "markdown",
   "id": "bf5adcc2",
   "metadata": {},
   "source": [
    "### Separating by sex"
   ]
  },
  {
   "cell_type": "code",
   "execution_count": 30,
   "id": "7a928b4d",
   "metadata": {},
   "outputs": [
    {
     "ename": "NameError",
     "evalue": "name 'm_sibsp_perc_surv' is not defined",
     "output_type": "error",
     "traceback": [
      "\u001b[1;31m---------------------------------------------------------------------------\u001b[0m",
      "\u001b[1;31mNameError\u001b[0m                                 Traceback (most recent call last)",
      "Input \u001b[1;32mIn [30]\u001b[0m, in \u001b[0;36m<cell line: 1>\u001b[1;34m()\u001b[0m\n\u001b[1;32m----> 1\u001b[0m \u001b[43mm_sibsp_perc_surv\u001b[49m\u001b[38;5;241m.\u001b[39mshape\n",
      "\u001b[1;31mNameError\u001b[0m: name 'm_sibsp_perc_surv' is not defined"
     ]
    }
   ],
   "source": [
    "m_sibsp_perc_surv.shape"
   ]
  },
  {
   "cell_type": "code",
   "execution_count": null,
   "id": "e5a605b3",
   "metadata": {},
   "outputs": [],
   "source": [
    "m_sibsp_counts = train.loc[train['Sex'] == 'male', ['SibSp', 'PassengerId']].groupby('SibSp').count()\n",
    "m_sibsp_surv_counts = train.loc[(train['Sex'] == 'male') & (train['Survived'] == 1), ['SibSp', 'PassengerId']].groupby('SibSp').count()\n",
    "f_sibsp_counts = train.loc[train['Sex'] == 'female', ['SibSp', 'PassengerId']].groupby('SibSp').count()\n",
    "f_sibsp_surv_counts = train.loc[(train['Sex'] == 'female') & (train['Survived'] == 1), ['SibSp', 'PassengerId']].groupby('SibSp').count()\n",
    "\n",
    "m_sibsp_perc_surv = m_sibsp_surv_counts / m_sibsp_counts * 100\n",
    "f_sibsp_perc_surv = f_sibsp_surv_counts / f_sibsp_counts * 100\n",
    "\n",
    "m_sibsp_perc_surv = m_sibsp_perc_surv.replace(np.nan, 0)\n",
    "f_sibsp_perc_surv = f_sibsp_perc_surv.replace(np.nan, 0)"
   ]
  },
  {
   "cell_type": "code",
   "execution_count": null,
   "id": "b0e8b1aa",
   "metadata": {},
   "outputs": [],
   "source": [
    "# Define Axes\n",
    "x = sibsp_counts\n",
    "y = m_sibsp_perc_surv\n",
    "\n",
    "# Set font size\n",
    "SMALL_SIZE = 12\n",
    "plt.rc('font', size=SMALL_SIZE)\n",
    "plt.rc('axes', titlesize=SMALL_SIZE)\n",
    "\n",
    "# Plot the graph\n",
    "ax = m_sibsp_perc_surv.plot.bar(rot = 0, color = \"blue\", figsize = (14,6), label = 'Survival Rate')\n",
    "plt.legend()\n",
    "plt.show()"
   ]
  },
  {
   "cell_type": "code",
   "execution_count": null,
   "id": "5d828a76",
   "metadata": {
    "scrolled": false
   },
   "outputs": [],
   "source": [
    "# Define Axes\n",
    "x = sibsp_counts\n",
    "y = f_sibsp_perc_surv\n",
    "\n",
    "# Set font size\n",
    "SMALL_SIZE = 12\n",
    "plt.rc('font', size=SMALL_SIZE)\n",
    "plt.rc('axes', titlesize=SMALL_SIZE)\n",
    "\n",
    "# Plot the graph\n",
    "ax = f_sibsp_perc_surv.plot.bar(rot = 0, color = \"orange\", figsize = (14,6), label = 'Survival Rate')\n",
    "plt.legend()\n",
    "plt.show()"
   ]
  },
  {
   "cell_type": "code",
   "execution_count": null,
   "id": "8dd3a26f",
   "metadata": {
    "scrolled": true
   },
   "outputs": [],
   "source": [
    "sibsp_counts"
   ]
  },
  {
   "cell_type": "code",
   "execution_count": null,
   "id": "c72e1d95",
   "metadata": {},
   "outputs": [],
   "source": [
    "m_sibsp_perc_surv.replace(np.nan, 0)"
   ]
  },
  {
   "cell_type": "markdown",
   "id": "2b205855",
   "metadata": {},
   "source": [
    "### `ParCh`"
   ]
  },
  {
   "cell_type": "code",
   "execution_count": null,
   "id": "8713de31",
   "metadata": {},
   "outputs": [],
   "source": [
    "train['Parch'].value_counts()"
   ]
  },
  {
   "cell_type": "code",
   "execution_count": null,
   "id": "35d3135a",
   "metadata": {},
   "outputs": [],
   "source": [
    "parch_counts = train.loc[: , ['Parch', 'PassengerId']].groupby('Parch').count()\n",
    "parch_surv_counts = train.loc[train['Survived'] == 1, ['Parch', 'PassengerId']].groupby('Parch').count()"
   ]
  },
  {
   "cell_type": "code",
   "execution_count": null,
   "id": "0aee8bce",
   "metadata": {},
   "outputs": [],
   "source": [
    "parch_perc_surv = parch_surv_counts / parch_counts\n",
    "parch_perc_surv = parch_perc_surv.replace(np.nan, 0)\n",
    "parch_perc_surv"
   ]
  },
  {
   "cell_type": "markdown",
   "id": "f56c8285",
   "metadata": {},
   "source": [
    "In the `SibSp` column, we cannot distinguish having Siblings to having a Spouse. However, in the time of the Titanic (year <b>1912</b>), there was no such thing as gay marriage. Therefore, we can immediately distinguish some siblings from spouses in the cases where the two people that share a same surname have the same sex."
   ]
  },
  {
   "cell_type": "markdown",
   "id": "ae24b00b",
   "metadata": {},
   "source": [
    "## Ticket Fare"
   ]
  },
  {
   "cell_type": "code",
   "execution_count": null,
   "id": "4e9054bd",
   "metadata": {},
   "outputs": [],
   "source": [
    "train['Fare'].describe()"
   ]
  },
  {
   "cell_type": "code",
   "execution_count": null,
   "id": "ba3dd70a",
   "metadata": {},
   "outputs": [],
   "source": [
    "ticket_fare = pd.cut(age_female_surv, bins = [0,10,20,30,40,50,60,70,80], include_lowest=True)"
   ]
  }
 ],
 "metadata": {
  "kernelspec": {
   "display_name": "Python 3 (ipykernel)",
   "language": "python",
   "name": "python3"
  },
  "language_info": {
   "codemirror_mode": {
    "name": "ipython",
    "version": 3
   },
   "file_extension": ".py",
   "mimetype": "text/x-python",
   "name": "python",
   "nbconvert_exporter": "python",
   "pygments_lexer": "ipython3",
   "version": "3.9.12"
  }
 },
 "nbformat": 4,
 "nbformat_minor": 5
}
